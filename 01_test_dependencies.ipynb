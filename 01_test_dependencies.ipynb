{
 "cells": [
  {
   "cell_type": "raw",
   "id": "e6ab19d9-ca5b-4a68-bdf0-14721c6ce050",
   "metadata": {},
   "source": [
    "---\n",
    "execute:\n",
    "    enabled: true\n",
    "---"
   ]
  },
  {
   "cell_type": "markdown",
   "id": "445e589f-6ecb-41f5-9d83-b5b9becddd31",
   "metadata": {},
   "source": [
    "# Test dependencies"
   ]
  },
  {
   "cell_type": "code",
   "execution_count": null,
   "id": "d41268af-b323-44ba-8729-01e969ff17b5",
   "metadata": {},
   "outputs": [],
   "source": [
    "from IPython import display\n",
    "import datetime\n",
    "import ee"
   ]
  },
  {
   "cell_type": "markdown",
   "id": "9cf6126c-f07d-45a2-803c-3fa885fbaa2c",
   "metadata": {},
   "source": [
    "## Test ipywidgets"
   ]
  },
  {
   "cell_type": "code",
   "execution_count": null,
   "id": "29589fdc-97cf-4f60-9440-d50095b38311",
   "metadata": {},
   "outputs": [],
   "source": [
    "import ipywidgets as widgets"
   ]
  },
  {
   "cell_type": "code",
   "execution_count": null,
   "id": "caa46e1a-8f21-4ccc-b66f-d66a25ffadc3",
   "metadata": {},
   "outputs": [
    {
     "data": {
      "application/vnd.jupyter.widget-view+json": {
       "model_id": "ba24013f121f485098b059cff2456b98",
       "version_major": 2,
       "version_minor": 0
      },
      "text/plain": [
       "IntSlider(value=0)"
      ]
     },
     "metadata": {},
     "output_type": "display_data"
    }
   ],
   "source": [
    "widgets.IntSlider()"
   ]
  },
  {
   "cell_type": "markdown",
   "id": "133c7456-4c99-431b-8811-f40b109d80ee",
   "metadata": {},
   "source": [
    "## Test ipyleaflet"
   ]
  },
  {
   "cell_type": "code",
   "execution_count": null,
   "id": "b6dcd1e9-c3fa-4f02-b24a-20a0784e5420",
   "metadata": {},
   "outputs": [],
   "source": [
    "import ipyleaflet"
   ]
  },
  {
   "cell_type": "code",
   "execution_count": null,
   "id": "441720ef-0678-443d-9fa5-f0a66318850f",
   "metadata": {},
   "outputs": [
    {
     "data": {
      "application/vnd.jupyter.widget-view+json": {
       "model_id": "43ed427fb6254cdca45964f7d88b006d",
       "version_major": 2,
       "version_minor": 0
      },
      "text/plain": [
       "Map(center=[48.204793, 350.121558], controls=(ZoomControl(options=['position', 'zoom_in_text', 'zoom_in_title'…"
      ]
     },
     "metadata": {},
     "output_type": "display_data"
    }
   ],
   "source": [
    "m = ipyleaflet.Map(\n",
    "    basemap=ipyleaflet.basemap_to_tiles(\n",
    "        ipyleaflet.basemaps.OpenStreetMap.Mapnik\n",
    "    ),\n",
    "    center=(48.204793, 350.121558),\n",
    "    zoom=3\n",
    "    )\n",
    "m"
   ]
  },
  {
   "cell_type": "markdown",
   "id": "ab37ca28-5434-4a2e-ab2d-76ffa779c3c4",
   "metadata": {},
   "source": [
    "## Test Earth Engine"
   ]
  },
  {
   "cell_type": "code",
   "execution_count": null,
   "id": "b4e007f8-dcbf-440f-8ead-08984d7a2f0a",
   "metadata": {},
   "outputs": [
    {
     "name": "stdout",
     "output_type": "stream",
     "text": [
      "/Users/tylere/.config/earthengine/credentials\n"
     ]
    }
   ],
   "source": [
    "print(ee.oauth.get_credentials_path())"
   ]
  },
  {
   "cell_type": "code",
   "execution_count": null,
   "id": "a7e97d1f-e0f7-483a-8e40-47ace075d587",
   "metadata": {},
   "outputs": [
    {
     "name": "stdout",
     "output_type": "stream",
     "text": [
      "/Users/tylere/.config/earthengine/credentials\n"
     ]
    }
   ],
   "source": [
    "!echo {ee.oauth.get_credentials_path()}"
   ]
  },
  {
   "cell_type": "code",
   "execution_count": null,
   "id": "6e8855ce-19fd-4a5b-8bbe-a528964005ad",
   "metadata": {},
   "outputs": [
    {
     "name": "stdout",
     "output_type": "stream",
     "text": [
      "-rw-------  1 tylere  primarygroup  393 Sep  4 23:11 /Users/tylere/.config/earthengine/credentials\n"
     ]
    }
   ],
   "source": [
    "!ls -l {ee.oauth.get_credentials_path()}"
   ]
  },
  {
   "cell_type": "code",
   "execution_count": null,
   "id": "d40d47f1-6628-448a-8880-cae1d12c3519",
   "metadata": {},
   "outputs": [
    {
     "name": "stdout",
     "output_type": "stream",
     "text": [
      "<class 'dict'>\n"
     ]
    }
   ],
   "source": [
    "creds = ee.oauth.get_credentials_arguments()\n",
    "print(type(creds))"
   ]
  },
  {
   "cell_type": "code",
   "execution_count": null,
   "id": "d43fc9ce-f0b0-4372-aea6-efec0575e0cc",
   "metadata": {},
   "outputs": [
    {
     "name": "stdout",
     "output_type": "stream",
     "text": [
      "765505009606-k3bgpkthhdonl444uu75gs5i9rkk6crf.apps.googleusercontent.com\n"
     ]
    }
   ],
   "source": [
    "#print(ee.oauth.get_credentials_arguments()['client_id'])"
   ]
  },
  {
   "cell_type": "code",
   "execution_count": null,
   "id": "e61b84e6-ddd8-4597-8784-149acb451710",
   "metadata": {},
   "outputs": [],
   "source": [
    "ee.Initialize()"
   ]
  },
  {
   "cell_type": "code",
   "execution_count": null,
   "id": "846f74f5-8077-4197-a4a8-60d7320efae1",
   "metadata": {},
   "outputs": [
    {
     "name": "stdout",
     "output_type": "stream",
     "text": [
      "{'type': 'Image', 'bands': [{'id': 'elevation', 'data_type': {'type': 'PixelType', 'precision': 'int', 'min': -32768, 'max': 32767}, 'dimensions': [432000, 144000], 'crs': 'EPSG:4326', 'crs_transform': [0.000833333333333, 0, -180, 0, -0.000833333333333, 60]}], 'id': 'CGIAR/SRTM90_V4', 'version': 1641990053291277, 'properties': {'system:visualization_0_min': '-100.0', 'type_name': 'Image', 'keywords': ['cgiar', 'dem', 'elevation', 'geophysical', 'srtm', 'topography'], 'thumb': 'https://mw1.google.com/ges/dd/images/SRTM90_V4_thumb.png', 'description': '<p>The Shuttle Radar Topography Mission (SRTM) digital\\nelevation dataset was originally produced to provide consistent,\\nhigh-quality elevation data at near global scope. This version\\nof the SRTM digital elevation data has been processed to fill data\\nvoids, and to facilitate its ease of use.</p><p><b>Provider: <a href=\"https://srtm.csi.cgiar.org/\">NASA/CGIAR</a></b><br><p><b>Bands</b><table class=\"eecat\"><tr><th scope=\"col\">Name</th><th scope=\"col\">Description</th></tr><tr><td>elevation</td><td><p>Elevation</p></td></tr></table><p><b>Terms of Use</b><br><p>DISTRIBUTION. Users are prohibited from any commercial, non-free resale, or\\nredistribution without explicit written permission from CIAT. Users should\\nacknowledge CIAT as the source used in the creation of any reports,\\npublications, new datasets, derived products, or services resulting from the\\nuse of this dataset. CIAT also request reprints of any publications and\\nnotification of any redistributing efforts. For commercial access to\\nthe data, send requests to <a href=\"mailto:a.jarvis@cgiar.org\">Andy Jarvis</a>.</p><p>NO WARRANTY OR LIABILITY. CIAT provides these data without any warranty of\\nany kind whatsoever, either express or implied, including warranties of\\nmerchantability and fitness for a particular purpose. CIAT shall not be\\nliable for incidental, consequential, or special damages arising out of\\nthe use of any data.</p><p>ACKNOWLEDGMENT AND CITATION. Any users are kindly asked to cite this data\\nin any published material produced using this data, and if possible link\\nweb pages to the <a href=\"https://srtm.csi.cgiar.org\">CIAT-CSI SRTM website</a>.</p><p><b>Suggested citation(s)</b><ul><li><p>Jarvis, A., H.I. Reuter, A. Nelson, E. Guevara. 2008. Hole-filled\\nSRTM for the globe Version 4, available from the CGIAR-CSI SRTM\\n90m Database: https://srtm.csi.cgiar.org.</p></li></ul><style>\\n  table.eecat {\\n  border: 1px solid black;\\n  border-collapse: collapse;\\n  font-size: 13px;\\n  }\\n  table.eecat td, tr, th {\\n  text-align: left; vertical-align: top;\\n  border: 1px solid gray; padding: 3px;\\n  }\\n  td.nobreak { white-space: nowrap; }\\n</style>', 'source_tags': ['cgiar'], 'visualization_0_max': '8000.0', 'title': 'SRTM Digital Elevation Data Version 4', 'product_tags': ['srtm', 'elevation', 'topography', 'dem', 'geophysical'], 'provider': 'NASA/CGIAR', 'visualization_0_min': '-100.0', 'visualization_0_name': 'Elevation', 'date_range': [950227200000, 951177600000], 'system:visualization_0_gamma': 1.6, 'period': 0, 'system:visualization_0_bands': 'elevation', 'system:time_end': 951177600000, 'provider_url': 'https://srtm.csi.cgiar.org/', 'sample': 'https://mw1.google.com/ges/dd/images/SRTM90_V4_sample.png', 'tags': ['cgiar', 'dem', 'elevation', 'geophysical', 'srtm', 'topography'], 'system:time_start': 950227200000, 'system:visualization_0_max': '8000.0', 'system:visualization_0_name': 'Elevation', 'system:asset_size': 18827626666, 'visualization_0_bands': 'elevation'}}\n"
     ]
    }
   ],
   "source": [
    "img = ee.Image(\"CGIAR/SRTM90_V4\")\n",
    "print(img.getInfo())"
   ]
  },
  {
   "cell_type": "code",
   "execution_count": null,
   "id": "929d20dd-2bd7-46a8-990b-40b7d5f326e0",
   "metadata": {},
   "outputs": [
    {
     "name": "stdout",
     "output_type": "stream",
     "text": [
      "url = https://earthengine.googleapis.com/v1alpha/projects/earthengine-legacy/thumbnails/7c4b700bb4c9c02516614e1305954b96-7e985373fd085c6fa9410b8cc2ae09f9:getPixels\n"
     ]
    }
   ],
   "source": [
    "url = img.getThumbUrl({'min':0, 'max':4000, 'dimensions':500})\n",
    "print(f'url = {url}')"
   ]
  },
  {
   "cell_type": "code",
   "execution_count": null,
   "id": "de091732-8d4c-43a3-aa2c-02c54d5e77ac",
   "metadata": {},
   "outputs": [
    {
     "data": {
      "image/png": "[encoded data removed]",
      "text/plain": [
       "<IPython.core.display.Image object>"
      ]
     },
     "execution_count": null,
     "metadata": {},
     "output_type": "execute_result"
    }
   ],
   "source": [
    "display.Image(url=url, format='png', embed=True)"
   ]
  },
  {
   "cell_type": "code",
   "execution_count": null,
   "id": "4423939d-cc6b-4c43-b03f-095cf6fa3916",
   "metadata": {},
   "outputs": [],
   "source": []
  }
 ],
 "metadata": {
  "kernelspec": {
   "display_name": "Python 3 (ipykernel)",
   "language": "python",
   "name": "python3"
  }
 },
 "nbformat": 4,
 "nbformat_minor": 5
}
