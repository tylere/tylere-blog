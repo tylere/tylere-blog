{
 "cells": [
  {
   "cell_type": "markdown",
   "id": "445e589f-6ecb-41f5-9d83-b5b9becddd31",
   "metadata": {},
   "source": [
    "# Test dependencies"
   ]
  },
  {
   "cell_type": "code",
   "execution_count": null,
   "id": "d41268af-b323-44ba-8729-01e969ff17b5",
   "metadata": {},
   "outputs": [],
   "source": [
    "from IPython import display\n",
    "import datetime\n",
    "import ee\n",
    "import os"
   ]
  },
  {
   "cell_type": "markdown",
   "id": "ab37ca28-5434-4a2e-ab2d-76ffa779c3c4",
   "metadata": {},
   "source": [
    "## Test Earth Engine"
   ]
  },
  {
   "cell_type": "code",
   "execution_count": null,
   "id": "bcafb6d3-1237-461e-bf28-473e26b7d8c2",
   "metadata": {},
   "outputs": [],
   "source": [
    "#|exec_doc\n",
    "print('test')"
   ]
  },
  {
   "cell_type": "code",
   "execution_count": null,
   "id": "e61b84e6-ddd8-4597-8784-149acb451710",
   "metadata": {},
   "outputs": [],
   "source": [
    "#|exec_doc\n",
    "private_key_file = os.environ.get('GEE_PRIVATE_KEY')\n",
    "private_key = f'/home/runner/work/tylere-blog/tylere-blog/{private_key_file}'\n",
    "print(f'private_key = {private_key}')"
   ]
  },
  {
   "cell_type": "code",
   "execution_count": null,
   "id": "51b250c9-3959-444e-9e10-09bdd98b57b9",
   "metadata": {},
   "outputs": [],
   "source": [
    "#|exec_doc\n",
    "credentials = ee.ServiceAccountCredentials('dummy', private_key)\n",
    "ee.Initialize(credentials)"
   ]
  },
  {
   "cell_type": "code",
   "execution_count": null,
   "id": "846f74f5-8077-4197-a4a8-60d7320efae1",
   "metadata": {},
   "outputs": [],
   "source": [
    "#|exec_doc\n",
    "img = ee.Image(\"CGIAR/SRTM90_V4\")\n",
    "print(img.getInfo())"
   ]
  },
  {
   "cell_type": "code",
   "execution_count": null,
   "id": "929d20dd-2bd7-46a8-990b-40b7d5f326e0",
   "metadata": {},
   "outputs": [],
   "source": [
    "#|exec_doc\n",
    "url = img.getThumbUrl({'min':0, 'max':4000, 'dimensions':500})\n",
    "print(f'url = {url}')"
   ]
  },
  {
   "cell_type": "code",
   "execution_count": null,
   "id": "de091732-8d4c-43a3-aa2c-02c54d5e77ac",
   "metadata": {},
   "outputs": [],
   "source": [
    "#|exec_doc\n",
    "display.Image(url=url, format='png', embed=True)"
   ]
  },
  {
   "cell_type": "markdown",
   "id": "9cf6126c-f07d-45a2-803c-3fa885fbaa2c",
   "metadata": {},
   "source": [
    "## Test ipywidgets"
   ]
  },
  {
   "cell_type": "code",
   "execution_count": null,
   "id": "29589fdc-97cf-4f60-9440-d50095b38311",
   "metadata": {},
   "outputs": [],
   "source": [
    "import ipywidgets as widgets"
   ]
  },
  {
   "cell_type": "code",
   "execution_count": null,
   "id": "caa46e1a-8f21-4ccc-b66f-d66a25ffadc3",
   "metadata": {},
   "outputs": [],
   "source": [
    "widgets.IntSlider()"
   ]
  },
  {
   "cell_type": "markdown",
   "id": "133c7456-4c99-431b-8811-f40b109d80ee",
   "metadata": {},
   "source": [
    "## Test ipyleaflet"
   ]
  },
  {
   "cell_type": "code",
   "execution_count": null,
   "id": "b6dcd1e9-c3fa-4f02-b24a-20a0784e5420",
   "metadata": {},
   "outputs": [],
   "source": [
    "import ipyleaflet"
   ]
  },
  {
   "cell_type": "code",
   "execution_count": null,
   "id": "441720ef-0678-443d-9fa5-f0a66318850f",
   "metadata": {},
   "outputs": [],
   "source": [
    "m = ipyleaflet.Map(\n",
    "    basemap=ipyleaflet.basemap_to_tiles(\n",
    "        ipyleaflet.basemaps.OpenStreetMap.Mapnik\n",
    "    ),\n",
    "    center=(48.204793, 350.121558),\n",
    "    zoom=3\n",
    "    )\n",
    "m"
   ]
  },
  {
   "cell_type": "code",
   "execution_count": null,
   "id": "4423939d-cc6b-4c43-b03f-095cf6fa3916",
   "metadata": {},
   "outputs": [],
   "source": []
  }
 ],
 "metadata": {
  "kernelspec": {
   "display_name": "Python 3 (ipykernel)",
   "language": "python",
   "name": "python3"
  }
 },
 "nbformat": 4,
 "nbformat_minor": 5
}
